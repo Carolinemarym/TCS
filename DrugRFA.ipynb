{
  "nbformat": 4,
  "nbformat_minor": 0,
  "metadata": {
    "colab": {
      "name": "DrugRFA.ipynb",
      "provenance": [],
      "collapsed_sections": []
    },
    "kernelspec": {
      "display_name": "Python 3",
      "language": "python",
      "name": "python3"
    },
    "language_info": {
      "codemirror_mode": {
        "name": "ipython",
        "version": 3
      },
      "file_extension": ".py",
      "mimetype": "text/x-python",
      "name": "python",
      "nbconvert_exporter": "python",
      "pygments_lexer": "ipython3",
      "version": "3.7.4"
    }
  },
  "cells": [
    {
      "cell_type": "markdown",
      "metadata": {
        "id": "0UtjWVqsUKdK"
      },
      "source": [
        "Importing Libraries:"
      ]
    },
    {
      "cell_type": "code",
      "metadata": {
        "id": "hgZdUHYP8UHi"
      },
      "source": [
        "import numpy as np\n",
        "import pandas as pd\n",
        "import matplotlib.pyplot as plt\n",
        "import seaborn as sns"
      ],
      "execution_count": null,
      "outputs": []
    },
    {
      "cell_type": "markdown",
      "metadata": {
        "id": "W0Kt5y12DJlj"
      },
      "source": [
        "Mounting google drive:"
      ]
    },
    {
      "cell_type": "code",
      "metadata": {
        "colab": {
          "base_uri": "https://localhost:8080/"
        },
        "id": "aCoXSf1vDFfC",
        "outputId": "e52b2e8b-27f6-4ff1-c168-3c5fdc5154c7"
      },
      "source": [
        "from google.colab import drive\n",
        "drive.mount(\"/content/drive\")"
      ],
      "execution_count": null,
      "outputs": [
        {
          "output_type": "stream",
          "text": [
            "Drive already mounted at /content/drive; to attempt to forcibly remount, call drive.mount(\"/content/drive\", force_remount=True).\n"
          ],
          "name": "stdout"
        }
      ]
    },
    {
      "cell_type": "markdown",
      "metadata": {
        "id": "HwrQA0dp8aDT"
      },
      "source": [
        "Reading dataset:"
      ]
    },
    {
      "cell_type": "code",
      "metadata": {
        "id": "LgQgQfix9Bi1"
      },
      "source": [
        "data = pd.read_csv('/content/drive/My Drive/ICT_DSA/TCS/webmd.csv')"
      ],
      "execution_count": null,
      "outputs": []
    },
    {
      "cell_type": "markdown",
      "metadata": {
        "id": "5faRanjjUQSR"
      },
      "source": [
        "Rows and columns of dataset:\n"
      ]
    },
    {
      "cell_type": "code",
      "metadata": {
        "colab": {
          "base_uri": "https://localhost:8080/"
        },
        "id": "BepORDE75rHR",
        "outputId": "d9e50916-2047-4ca4-9388-8914e83e9e97"
      },
      "source": [
        "data.shape"
      ],
      "execution_count": null,
      "outputs": [
        {
          "output_type": "execute_result",
          "data": {
            "text/plain": [
              "(362806, 12)"
            ]
          },
          "metadata": {
            "tags": []
          },
          "execution_count": 5
        }
      ]
    },
    {
      "cell_type": "markdown",
      "metadata": {
        "id": "ewsTjQKLUhFp"
      },
      "source": [
        "Datatypes of dataset:\n"
      ]
    },
    {
      "cell_type": "code",
      "metadata": {
        "colab": {
          "base_uri": "https://localhost:8080/"
        },
        "id": "MnTwAT7KBR0T",
        "outputId": "95e1a826-9421-4975-cbb0-e33a5862e3cd"
      },
      "source": [
        "data.dtypes"
      ],
      "execution_count": null,
      "outputs": [
        {
          "output_type": "execute_result",
          "data": {
            "text/plain": [
              "Age              object\n",
              "Condition        object\n",
              "Date             object\n",
              "Drug             object\n",
              "DrugId            int64\n",
              "EaseofUse         int64\n",
              "Effectiveness     int64\n",
              "Reviews          object\n",
              "Satisfaction      int64\n",
              "Sex              object\n",
              "Sides            object\n",
              "UsefulCount       int64\n",
              "dtype: object"
            ]
          },
          "metadata": {
            "tags": []
          },
          "execution_count": 6
        }
      ]
    },
    {
      "cell_type": "markdown",
      "metadata": {
        "id": "JQKQ8xEzUpJ8"
      },
      "source": [
        "Attribute details of dataset:"
      ]
    },
    {
      "cell_type": "code",
      "metadata": {
        "colab": {
          "base_uri": "https://localhost:8080/"
        },
        "id": "yUgIjkUc9KQM",
        "outputId": "eb81675c-8c0b-4a7f-dad0-8378b41aa86f"
      },
      "source": [
        "data.columns"
      ],
      "execution_count": null,
      "outputs": [
        {
          "output_type": "execute_result",
          "data": {
            "text/plain": [
              "Index(['Age', 'Condition', 'Date', 'Drug', 'DrugId', 'EaseofUse',\n",
              "       'Effectiveness', 'Reviews', 'Satisfaction', 'Sex', 'Sides',\n",
              "       'UsefulCount'],\n",
              "      dtype='object')"
            ]
          },
          "metadata": {
            "tags": []
          },
          "execution_count": 7
        }
      ]
    },
    {
      "cell_type": "markdown",
      "metadata": {
        "id": "1w-eOSRiUufQ"
      },
      "source": [
        "Major 5 information regarding the dataset:"
      ]
    },
    {
      "cell_type": "code",
      "metadata": {
        "colab": {
          "base_uri": "https://localhost:8080/",
          "height": 295
        },
        "id": "7SZob8pO9YTH",
        "outputId": "50481774-8806-4ba2-96a7-acbcb1521cc0"
      },
      "source": [
        "data.describe()"
      ],
      "execution_count": null,
      "outputs": [
        {
          "output_type": "execute_result",
          "data": {
            "text/html": [
              "<div>\n",
              "<style scoped>\n",
              "    .dataframe tbody tr th:only-of-type {\n",
              "        vertical-align: middle;\n",
              "    }\n",
              "\n",
              "    .dataframe tbody tr th {\n",
              "        vertical-align: top;\n",
              "    }\n",
              "\n",
              "    .dataframe thead th {\n",
              "        text-align: right;\n",
              "    }\n",
              "</style>\n",
              "<table border=\"1\" class=\"dataframe\">\n",
              "  <thead>\n",
              "    <tr style=\"text-align: right;\">\n",
              "      <th></th>\n",
              "      <th>DrugId</th>\n",
              "      <th>EaseofUse</th>\n",
              "      <th>Effectiveness</th>\n",
              "      <th>Satisfaction</th>\n",
              "      <th>UsefulCount</th>\n",
              "    </tr>\n",
              "  </thead>\n",
              "  <tbody>\n",
              "    <tr>\n",
              "      <th>count</th>\n",
              "      <td>362806.000000</td>\n",
              "      <td>362806.000000</td>\n",
              "      <td>362806.000000</td>\n",
              "      <td>362806.000000</td>\n",
              "      <td>362806.000000</td>\n",
              "    </tr>\n",
              "    <tr>\n",
              "      <th>mean</th>\n",
              "      <td>36879.370774</td>\n",
              "      <td>4.019829</td>\n",
              "      <td>3.532061</td>\n",
              "      <td>3.135408</td>\n",
              "      <td>6.744916</td>\n",
              "    </tr>\n",
              "    <tr>\n",
              "      <th>std</th>\n",
              "      <td>52624.412971</td>\n",
              "      <td>1.317711</td>\n",
              "      <td>1.455961</td>\n",
              "      <td>1.611106</td>\n",
              "      <td>9.324240</td>\n",
              "    </tr>\n",
              "    <tr>\n",
              "      <th>min</th>\n",
              "      <td>1.000000</td>\n",
              "      <td>1.000000</td>\n",
              "      <td>1.000000</td>\n",
              "      <td>1.000000</td>\n",
              "      <td>0.000000</td>\n",
              "    </tr>\n",
              "    <tr>\n",
              "      <th>25%</th>\n",
              "      <td>4896.000000</td>\n",
              "      <td>3.000000</td>\n",
              "      <td>3.000000</td>\n",
              "      <td>1.000000</td>\n",
              "      <td>1.000000</td>\n",
              "    </tr>\n",
              "    <tr>\n",
              "      <th>50%</th>\n",
              "      <td>9548.000000</td>\n",
              "      <td>5.000000</td>\n",
              "      <td>4.000000</td>\n",
              "      <td>3.000000</td>\n",
              "      <td>4.000000</td>\n",
              "    </tr>\n",
              "    <tr>\n",
              "      <th>75%</th>\n",
              "      <td>63522.000000</td>\n",
              "      <td>5.000000</td>\n",
              "      <td>5.000000</td>\n",
              "      <td>5.000000</td>\n",
              "      <td>9.000000</td>\n",
              "    </tr>\n",
              "    <tr>\n",
              "      <th>max</th>\n",
              "      <td>178546.000000</td>\n",
              "      <td>10.000000</td>\n",
              "      <td>10.000000</td>\n",
              "      <td>10.000000</td>\n",
              "      <td>255.000000</td>\n",
              "    </tr>\n",
              "  </tbody>\n",
              "</table>\n",
              "</div>"
            ],
            "text/plain": [
              "              DrugId      EaseofUse  ...   Satisfaction    UsefulCount\n",
              "count  362806.000000  362806.000000  ...  362806.000000  362806.000000\n",
              "mean    36879.370774       4.019829  ...       3.135408       6.744916\n",
              "std     52624.412971       1.317711  ...       1.611106       9.324240\n",
              "min         1.000000       1.000000  ...       1.000000       0.000000\n",
              "25%      4896.000000       3.000000  ...       1.000000       1.000000\n",
              "50%      9548.000000       5.000000  ...       3.000000       4.000000\n",
              "75%     63522.000000       5.000000  ...       5.000000       9.000000\n",
              "max    178546.000000      10.000000  ...      10.000000     255.000000\n",
              "\n",
              "[8 rows x 5 columns]"
            ]
          },
          "metadata": {
            "tags": []
          },
          "execution_count": 8
        }
      ]
    },
    {
      "cell_type": "markdown",
      "metadata": {
        "id": "GJz0-zLnU8yd"
      },
      "source": [
        "First 5 content of the dataset:"
      ]
    },
    {
      "cell_type": "code",
      "metadata": {
        "colab": {
          "base_uri": "https://localhost:8080/",
          "height": 287
        },
        "id": "FUKnnxnEQvIX",
        "outputId": "67052928-a666-445b-81cb-eda3275d7d18"
      },
      "source": [
        "data.head()"
      ],
      "execution_count": null,
      "outputs": [
        {
          "output_type": "execute_result",
          "data": {
            "text/html": [
              "<div>\n",
              "<style scoped>\n",
              "    .dataframe tbody tr th:only-of-type {\n",
              "        vertical-align: middle;\n",
              "    }\n",
              "\n",
              "    .dataframe tbody tr th {\n",
              "        vertical-align: top;\n",
              "    }\n",
              "\n",
              "    .dataframe thead th {\n",
              "        text-align: right;\n",
              "    }\n",
              "</style>\n",
              "<table border=\"1\" class=\"dataframe\">\n",
              "  <thead>\n",
              "    <tr style=\"text-align: right;\">\n",
              "      <th></th>\n",
              "      <th>Age</th>\n",
              "      <th>Condition</th>\n",
              "      <th>Date</th>\n",
              "      <th>Drug</th>\n",
              "      <th>DrugId</th>\n",
              "      <th>EaseofUse</th>\n",
              "      <th>Effectiveness</th>\n",
              "      <th>Reviews</th>\n",
              "      <th>Satisfaction</th>\n",
              "      <th>Sex</th>\n",
              "      <th>Sides</th>\n",
              "      <th>UsefulCount</th>\n",
              "    </tr>\n",
              "  </thead>\n",
              "  <tbody>\n",
              "    <tr>\n",
              "      <th>0</th>\n",
              "      <td>75 or over</td>\n",
              "      <td>Stuffy Nose</td>\n",
              "      <td>9/21/2014</td>\n",
              "      <td>25dph-7.5peh</td>\n",
              "      <td>146724</td>\n",
              "      <td>5</td>\n",
              "      <td>5</td>\n",
              "      <td>I'm a retired physician and of all the meds I ...</td>\n",
              "      <td>5</td>\n",
              "      <td>Male</td>\n",
              "      <td>Drowsiness,  dizziness ,  dry mouth /nose/thro...</td>\n",
              "      <td>0</td>\n",
              "    </tr>\n",
              "    <tr>\n",
              "      <th>1</th>\n",
              "      <td>25-34</td>\n",
              "      <td>Cold Symptoms</td>\n",
              "      <td>1/13/2011</td>\n",
              "      <td>25dph-7.5peh</td>\n",
              "      <td>146724</td>\n",
              "      <td>5</td>\n",
              "      <td>5</td>\n",
              "      <td>cleared me right up even with my throat hurtin...</td>\n",
              "      <td>5</td>\n",
              "      <td>Female</td>\n",
              "      <td>Drowsiness,  dizziness ,  dry mouth /nose/thro...</td>\n",
              "      <td>1</td>\n",
              "    </tr>\n",
              "    <tr>\n",
              "      <th>2</th>\n",
              "      <td>65-74</td>\n",
              "      <td>Other</td>\n",
              "      <td>7/16/2012</td>\n",
              "      <td>warfarin (bulk) 100 % powder</td>\n",
              "      <td>144731</td>\n",
              "      <td>2</td>\n",
              "      <td>3</td>\n",
              "      <td>why did my PTINR go from a normal of 2.5 to ov...</td>\n",
              "      <td>3</td>\n",
              "      <td>Female</td>\n",
              "      <td></td>\n",
              "      <td>0</td>\n",
              "    </tr>\n",
              "    <tr>\n",
              "      <th>3</th>\n",
              "      <td>75 or over</td>\n",
              "      <td>Other</td>\n",
              "      <td>9/23/2010</td>\n",
              "      <td>warfarin (bulk) 100 % powder</td>\n",
              "      <td>144731</td>\n",
              "      <td>2</td>\n",
              "      <td>2</td>\n",
              "      <td>FALLING AND DON'T REALISE IT</td>\n",
              "      <td>1</td>\n",
              "      <td>Female</td>\n",
              "      <td></td>\n",
              "      <td>0</td>\n",
              "    </tr>\n",
              "    <tr>\n",
              "      <th>4</th>\n",
              "      <td>35-44</td>\n",
              "      <td>Other</td>\n",
              "      <td>01-06-2009</td>\n",
              "      <td>warfarin (bulk) 100 % powder</td>\n",
              "      <td>144731</td>\n",
              "      <td>1</td>\n",
              "      <td>1</td>\n",
              "      <td>My grandfather was prescribed this medication ...</td>\n",
              "      <td>1</td>\n",
              "      <td>Male</td>\n",
              "      <td></td>\n",
              "      <td>1</td>\n",
              "    </tr>\n",
              "  </tbody>\n",
              "</table>\n",
              "</div>"
            ],
            "text/plain": [
              "          Age  ... UsefulCount\n",
              "0  75 or over  ...           0\n",
              "1       25-34  ...           1\n",
              "2       65-74  ...           0\n",
              "3  75 or over  ...           0\n",
              "4       35-44  ...           1\n",
              "\n",
              "[5 rows x 12 columns]"
            ]
          },
          "metadata": {
            "tags": []
          },
          "execution_count": 9
        }
      ]
    },
    {
      "cell_type": "markdown",
      "metadata": {
        "id": "WVK1B5huVF9e"
      },
      "source": [
        "Last 5 content of the dataset:"
      ]
    },
    {
      "cell_type": "code",
      "metadata": {
        "colab": {
          "base_uri": "https://localhost:8080/",
          "height": 287
        },
        "id": "SQY9LOkwU325",
        "outputId": "20d3df4b-3f87-4d71-9b50-c94dc7965a74"
      },
      "source": [
        "data.tail()"
      ],
      "execution_count": null,
      "outputs": [
        {
          "output_type": "execute_result",
          "data": {
            "text/html": [
              "<div>\n",
              "<style scoped>\n",
              "    .dataframe tbody tr th:only-of-type {\n",
              "        vertical-align: middle;\n",
              "    }\n",
              "\n",
              "    .dataframe tbody tr th {\n",
              "        vertical-align: top;\n",
              "    }\n",
              "\n",
              "    .dataframe thead th {\n",
              "        text-align: right;\n",
              "    }\n",
              "</style>\n",
              "<table border=\"1\" class=\"dataframe\">\n",
              "  <thead>\n",
              "    <tr style=\"text-align: right;\">\n",
              "      <th></th>\n",
              "      <th>Age</th>\n",
              "      <th>Condition</th>\n",
              "      <th>Date</th>\n",
              "      <th>Drug</th>\n",
              "      <th>DrugId</th>\n",
              "      <th>EaseofUse</th>\n",
              "      <th>Effectiveness</th>\n",
              "      <th>Reviews</th>\n",
              "      <th>Satisfaction</th>\n",
              "      <th>Sex</th>\n",
              "      <th>Sides</th>\n",
              "      <th>UsefulCount</th>\n",
              "    </tr>\n",
              "  </thead>\n",
              "  <tbody>\n",
              "    <tr>\n",
              "      <th>362801</th>\n",
              "      <td>55-64</td>\n",
              "      <td>Stop Smoking</td>\n",
              "      <td>11/14/2008</td>\n",
              "      <td>chantix</td>\n",
              "      <td>144470</td>\n",
              "      <td>5</td>\n",
              "      <td>5</td>\n",
              "      <td>I took the whole 12 weeks.I could have stopped...</td>\n",
              "      <td>5</td>\n",
              "      <td>Female</td>\n",
              "      <td>Nausea ,  headache ,  vomiting , drowsiness, g...</td>\n",
              "      <td>2</td>\n",
              "    </tr>\n",
              "    <tr>\n",
              "      <th>362802</th>\n",
              "      <td></td>\n",
              "      <td>Other</td>\n",
              "      <td>11/14/2008</td>\n",
              "      <td>chantix</td>\n",
              "      <td>144470</td>\n",
              "      <td>2</td>\n",
              "      <td>3</td>\n",
              "      <td>My dad strated taking Chantix about 1 month ag...</td>\n",
              "      <td>1</td>\n",
              "      <td></td>\n",
              "      <td>Nausea ,  headache ,  vomiting , drowsiness, g...</td>\n",
              "      <td>16</td>\n",
              "    </tr>\n",
              "    <tr>\n",
              "      <th>362803</th>\n",
              "      <td>25-34</td>\n",
              "      <td>Stop Smoking</td>\n",
              "      <td>11/13/2008</td>\n",
              "      <td>chantix</td>\n",
              "      <td>144470</td>\n",
              "      <td>2</td>\n",
              "      <td>4</td>\n",
              "      <td>As long as I was on chantix, I didn't smoke.  ...</td>\n",
              "      <td>2</td>\n",
              "      <td>Female</td>\n",
              "      <td>Nausea ,  headache ,  vomiting , drowsiness, g...</td>\n",
              "      <td>3</td>\n",
              "    </tr>\n",
              "    <tr>\n",
              "      <th>362804</th>\n",
              "      <td>55-64</td>\n",
              "      <td>Stop Smoking</td>\n",
              "      <td>11/13/2008</td>\n",
              "      <td>chantix</td>\n",
              "      <td>144470</td>\n",
              "      <td>5</td>\n",
              "      <td>5</td>\n",
              "      <td>Started this medication Oct 5th 2008. Haven't ...</td>\n",
              "      <td>5</td>\n",
              "      <td>Male</td>\n",
              "      <td>Nausea ,  headache ,  vomiting , drowsiness, g...</td>\n",
              "      <td>1</td>\n",
              "    </tr>\n",
              "    <tr>\n",
              "      <th>362805</th>\n",
              "      <td>45-54</td>\n",
              "      <td>Stop Smoking</td>\n",
              "      <td>11-12-2008</td>\n",
              "      <td>chantix</td>\n",
              "      <td>144470</td>\n",
              "      <td>4</td>\n",
              "      <td>5</td>\n",
              "      <td>One year ago, I tried Chantix and had to stop ...</td>\n",
              "      <td>5</td>\n",
              "      <td>Female</td>\n",
              "      <td>Nausea ,  headache ,  vomiting , drowsiness, g...</td>\n",
              "      <td>3</td>\n",
              "    </tr>\n",
              "  </tbody>\n",
              "</table>\n",
              "</div>"
            ],
            "text/plain": [
              "          Age  ... UsefulCount\n",
              "362801  55-64  ...           2\n",
              "362802         ...          16\n",
              "362803  25-34  ...           3\n",
              "362804  55-64  ...           1\n",
              "362805  45-54  ...           3\n",
              "\n",
              "[5 rows x 12 columns]"
            ]
          },
          "metadata": {
            "tags": []
          },
          "execution_count": 10
        }
      ]
    },
    {
      "cell_type": "markdown",
      "metadata": {
        "id": "u41HyAn0VJ5x"
      },
      "source": [
        "Total data set information  of the dataset:"
      ]
    },
    {
      "cell_type": "code",
      "metadata": {
        "colab": {
          "base_uri": "https://localhost:8080/"
        },
        "id": "HF5JcutE9fPA",
        "outputId": "af3496e7-265e-413d-d8fc-2383ce85a36a"
      },
      "source": [
        "data.info()"
      ],
      "execution_count": null,
      "outputs": [
        {
          "output_type": "stream",
          "text": [
            "<class 'pandas.core.frame.DataFrame'>\n",
            "RangeIndex: 362806 entries, 0 to 362805\n",
            "Data columns (total 12 columns):\n",
            " #   Column         Non-Null Count   Dtype \n",
            "---  ------         --------------   ----- \n",
            " 0   Age            362806 non-null  object\n",
            " 1   Condition      362806 non-null  object\n",
            " 2   Date           362806 non-null  object\n",
            " 3   Drug           362806 non-null  object\n",
            " 4   DrugId         362806 non-null  int64 \n",
            " 5   EaseofUse      362806 non-null  int64 \n",
            " 6   Effectiveness  362806 non-null  int64 \n",
            " 7   Reviews        362769 non-null  object\n",
            " 8   Satisfaction   362806 non-null  int64 \n",
            " 9   Sex            362806 non-null  object\n",
            " 10  Sides          362806 non-null  object\n",
            " 11  UsefulCount    362806 non-null  int64 \n",
            "dtypes: int64(5), object(7)\n",
            "memory usage: 33.2+ MB\n"
          ],
          "name": "stdout"
        }
      ]
    },
    {
      "cell_type": "markdown",
      "metadata": {
        "id": "R5o_ZpeaVVfq"
      },
      "source": [
        "Checking for null values:"
      ]
    },
    {
      "cell_type": "code",
      "metadata": {
        "colab": {
          "base_uri": "https://localhost:8080/"
        },
        "id": "_vpuYW6v59e5",
        "outputId": "e6a9874c-cc07-4afa-f6a3-b069fd36b9dc"
      },
      "source": [
        "data.isna().sum()"
      ],
      "execution_count": null,
      "outputs": [
        {
          "output_type": "execute_result",
          "data": {
            "text/plain": [
              "Age               0\n",
              "Condition         0\n",
              "Date              0\n",
              "Drug              0\n",
              "DrugId            0\n",
              "EaseofUse         0\n",
              "Effectiveness     0\n",
              "Reviews          37\n",
              "Satisfaction      0\n",
              "Sex               0\n",
              "Sides             0\n",
              "UsefulCount       0\n",
              "dtype: int64"
            ]
          },
          "metadata": {
            "tags": []
          },
          "execution_count": 12
        }
      ]
    },
    {
      "cell_type": "markdown",
      "metadata": {
        "id": "B1JGKKH-ACs3"
      },
      "source": [
        "Histogram of numerical values:"
      ]
    },
    {
      "cell_type": "code",
      "metadata": {
        "colab": {
          "base_uri": "https://localhost:8080/"
        },
        "id": "6cyauj0HDbkO",
        "outputId": "80a8dca4-c3e5-4ef8-fcf0-68aadb11104b"
      },
      "source": [
        "data.columns"
      ],
      "execution_count": null,
      "outputs": [
        {
          "output_type": "execute_result",
          "data": {
            "text/plain": [
              "Index(['Age', 'Condition', 'Date', 'Drug', 'DrugId', 'EaseofUse',\n",
              "       'Effectiveness', 'Reviews', 'Satisfaction', 'Sex', 'Sides',\n",
              "       'UsefulCount'],\n",
              "      dtype='object')"
            ]
          },
          "metadata": {
            "tags": []
          },
          "execution_count": 13
        }
      ]
    },
    {
      "cell_type": "code",
      "metadata": {
        "colab": {
          "base_uri": "https://localhost:8080/"
        },
        "id": "F6cZ2dzqVKF_",
        "outputId": "61ed20b2-d630-404e-db7b-135a12bda9d8"
      },
      "source": [
        "data.shape"
      ],
      "execution_count": null,
      "outputs": [
        {
          "output_type": "execute_result",
          "data": {
            "text/plain": [
              "(362806, 12)"
            ]
          },
          "metadata": {
            "tags": []
          },
          "execution_count": 14
        }
      ]
    },
    {
      "cell_type": "markdown",
      "metadata": {
        "id": "eoagno_vVn4J"
      },
      "source": [
        "Filling the missing fields of Age, Side and Sex :\n"
      ]
    },
    {
      "cell_type": "code",
      "metadata": {
        "id": "LTTUh2k8d37C"
      },
      "source": [
        "data['Age'] = data['Age'].fillna(data['Age'].mode()[0])\n"
      ],
      "execution_count": null,
      "outputs": []
    },
    {
      "cell_type": "code",
      "metadata": {
        "id": "Gm0AWYyoXdD3"
      },
      "source": [
        "data['Sides'] = data['Sides'].fillna(data['Sides'].mode()[0])"
      ],
      "execution_count": null,
      "outputs": []
    },
    {
      "cell_type": "code",
      "metadata": {
        "id": "bHU2gg6OXd6C"
      },
      "source": [
        "data['Sex'] = data['Sex'].fillna(data['Sex'].mode()[0])"
      ],
      "execution_count": null,
      "outputs": []
    },
    {
      "cell_type": "code",
      "metadata": {
        "id": "nYYrhOEDRxnv"
      },
      "source": [
        "#discarding the Review field\n",
        "data=data.drop(['Reviews'],axis=1)"
      ],
      "execution_count": null,
      "outputs": []
    },
    {
      "cell_type": "markdown",
      "metadata": {
        "id": "I-pBsL5QX38B"
      },
      "source": [
        "Row, Columns after dropping some irrelevant attributes:\n"
      ]
    },
    {
      "cell_type": "code",
      "metadata": {
        "colab": {
          "base_uri": "https://localhost:8080/"
        },
        "id": "oEi-Mz6C_iTS",
        "outputId": "869e4a86-1ff7-4278-a14a-a27c8386f59f"
      },
      "source": [
        "data.shape"
      ],
      "execution_count": null,
      "outputs": [
        {
          "output_type": "execute_result",
          "data": {
            "text/plain": [
              "(362806, 11)"
            ]
          },
          "metadata": {
            "tags": []
          },
          "execution_count": 19
        }
      ]
    },
    {
      "cell_type": "code",
      "metadata": {
        "colab": {
          "base_uri": "https://localhost:8080/"
        },
        "id": "oRME1Inx_mHF",
        "outputId": "97a9798b-2b21-4832-bba1-dae6f3e26fbb"
      },
      "source": [
        "data.isna().sum()"
      ],
      "execution_count": null,
      "outputs": [
        {
          "output_type": "execute_result",
          "data": {
            "text/plain": [
              "Age              0\n",
              "Condition        0\n",
              "Date             0\n",
              "Drug             0\n",
              "DrugId           0\n",
              "EaseofUse        0\n",
              "Effectiveness    0\n",
              "Satisfaction     0\n",
              "Sex              0\n",
              "Sides            0\n",
              "UsefulCount      0\n",
              "dtype: int64"
            ]
          },
          "metadata": {
            "tags": []
          },
          "execution_count": 20
        }
      ]
    },
    {
      "cell_type": "markdown",
      "metadata": {
        "id": "fbRJVt2MYGYi"
      },
      "source": [
        "Missing values are handled. Data is cleaned:"
      ]
    },
    {
      "cell_type": "code",
      "metadata": {
        "id": "CoTO0842M6u7"
      },
      "source": [
        "#Deriving day,month,year  from Date"
      ],
      "execution_count": null,
      "outputs": []
    },
    {
      "cell_type": "code",
      "metadata": {
        "id": "QqJTJU8pNEGv"
      },
      "source": [
        "# Convert Start_Time and End_Time to datetypes\n",
        "data['Date'] = pd.to_datetime(data['Date'], errors='coerce')\n",
        "# df_full_data['End_Time'] = pd.to_datetime(df_full_data['End_Time'], errors='coerce')\n",
        "\n",
        "# Extract year, month, day, hour and weekday\n",
        "data['Year']=data['Date'].dt.year\n",
        "data['Month']=data['Date'].dt.strftime('%b')\n",
        "data['Day']=data['Date'].dt.day\n",
        "data['Hour']=data['Date'].dt.hour\n",
        "data['Weekday']=data['Date'].dt.strftime('%a')"
      ],
      "execution_count": null,
      "outputs": []
    },
    {
      "cell_type": "code",
      "metadata": {
        "id": "xP-J4P35ZR4q"
      },
      "source": [
        "#Check the Effectiveness count"
      ],
      "execution_count": null,
      "outputs": []
    },
    {
      "cell_type": "code",
      "metadata": {
        "colab": {
          "base_uri": "https://localhost:8080/"
        },
        "id": "HKghdjOPZs4S",
        "outputId": "a2c1ca17-c9b6-4ae7-9df3-e70b247755e2"
      },
      "source": [
        "print(data[\"Effectiveness\"].value_counts())"
      ],
      "execution_count": null,
      "outputs": [
        {
          "output_type": "stream",
          "text": [
            "5     130388\n",
            "4      81821\n",
            "3      60406\n",
            "1      59387\n",
            "2      30801\n",
            "6          2\n",
            "10         1\n",
            "Name: Effectiveness, dtype: int64\n"
          ],
          "name": "stdout"
        }
      ]
    },
    {
      "cell_type": "markdown",
      "metadata": {
        "id": "9Di7SCEEFA2G"
      },
      "source": [
        "# Outlier detection"
      ]
    },
    {
      "cell_type": "markdown",
      "metadata": {
        "id": "r2iMAMnUFGB6"
      },
      "source": [
        "Printing the values of numerical columns"
      ]
    },
    {
      "cell_type": "code",
      "metadata": {
        "id": "EDErkXcYE9P3"
      },
      "source": [
        "numeric_col1= ['DrugId']"
      ],
      "execution_count": null,
      "outputs": []
    },
    {
      "cell_type": "markdown",
      "metadata": {
        "id": "vX12C8WgFKvL"
      },
      "source": [
        "Printing the boxplot of these numerical columns"
      ]
    },
    {
      "cell_type": "code",
      "metadata": {
        "colab": {
          "base_uri": "https://localhost:8080/",
          "height": 298
        },
        "id": "Vt9IvF7IFLrT",
        "outputId": "72796a1c-24a0-440d-817b-c4ec3607e84c"
      },
      "source": [
        "data.boxplot(numeric_col1)\n",
        "plt.title('Boxplot of  DrugId')"
      ],
      "execution_count": null,
      "outputs": [
        {
          "output_type": "execute_result",
          "data": {
            "text/plain": [
              "Text(0.5, 1.0, 'Boxplot of  DrugId')"
            ]
          },
          "metadata": {
            "tags": []
          },
          "execution_count": 26
        },
        {
          "output_type": "display_data",
          "data": {
            "image/png": "[encoded data removed]",
            "text/plain": [
              "<Figure size 432x288 with 1 Axes>"
            ]
          },
          "metadata": {
            "tags": [],
            "needs_background": "light"
          }
        }
      ]
    },
    {
      "cell_type": "code",
      "metadata": {
        "id": "YO5FWs4vFdRq"
      },
      "source": [
        "numeric_col2= [ 'EaseofUse','Satisfaction', 'UsefulCount']"
      ],
      "execution_count": null,
      "outputs": []
    },
    {
      "cell_type": "code",
      "metadata": {
        "colab": {
          "base_uri": "https://localhost:8080/",
          "height": 298
        },
        "id": "HoyoejKzFerj",
        "outputId": "35f20a1f-7fa9-4ba2-a7c8-4fc35714b146"
      },
      "source": [
        "data.boxplot(numeric_col2)\n",
        "plt.title('Boxplot of  EaseofUse, Satisfaction, UsefulCount')"
      ],
      "execution_count": null,
      "outputs": [
        {
          "output_type": "execute_result",
          "data": {
            "text/plain": [
              "Text(0.5, 1.0, 'Boxplot of  EaseofUse, Satisfaction, UsefulCount')"
            ]
          },
          "metadata": {
            "tags": []
          },
          "execution_count": 28
        },
        {
          "output_type": "display_data",
          "data": {
            "image/png": "[encoded data removed]",
            "text/plain": [
              "<Figure size 432x288 with 1 Axes>"
            ]
          },
          "metadata": {
            "tags": [],
            "needs_background": "light"
          }
        }
      ]
    },
    {
      "cell_type": "markdown",
      "metadata": {
        "id": "irRkwUgXFQ6B"
      },
      "source": [
        "It is clear that DrugId and UsefulCount has outliers and has to be processed"
      ]
    },
    {
      "cell_type": "code",
      "metadata": {
        "id": "rTt2ZRerZ9Z7"
      },
      "source": [
        "numeric_col3= [ 'EaseofUse']"
      ],
      "execution_count": null,
      "outputs": []
    },
    {
      "cell_type": "code",
      "metadata": {
        "colab": {
          "base_uri": "https://localhost:8080/",
          "height": 298
        },
        "id": "E837jACdaDm2",
        "outputId": "c78d01c6-19ec-4d7b-87ca-7b581e468141"
      },
      "source": [
        "data.boxplot(numeric_col3)\n",
        "plt.title('Boxplot of  EaseofUse')"
      ],
      "execution_count": null,
      "outputs": [
        {
          "output_type": "execute_result",
          "data": {
            "text/plain": [
              "Text(0.5, 1.0, 'Boxplot of  EaseofUse')"
            ]
          },
          "metadata": {
            "tags": []
          },
          "execution_count": 30
        },
        {
          "output_type": "display_data",
          "data": {
            "image/png": "[encoded data removed]",
            "text/plain": [
              "<Figure size 432x288 with 1 Axes>"
            ]
          },
          "metadata": {
            "tags": [],
            "needs_background": "light"
          }
        }
      ]
    },
    {
      "cell_type": "markdown",
      "metadata": {
        "id": "8rK08ie1FiOF"
      },
      "source": [
        "It is clear that UsefulCount has outliers and has to be processed"
      ]
    },
    {
      "cell_type": "markdown",
      "metadata": {
        "id": "tP1vJHk-FkrD"
      },
      "source": [
        "Loop for outlier removal"
      ]
    },
    {
      "cell_type": "code",
      "metadata": {
        "id": "inz3dYOjFlnH"
      },
      "source": [
        "numeric_col= ['DrugId','UsefulCount','EaseofUse']"
      ],
      "execution_count": null,
      "outputs": []
    },
    {
      "cell_type": "code",
      "metadata": {
        "colab": {
          "base_uri": "https://localhost:8080/",
          "height": 923
        },
        "id": "lJmY6D5sFrZM",
        "outputId": "f5d8f4b2-0437-456b-aeb3-e1f1a7f9d857"
      },
      "source": [
        "#To find outlier in DrugId,UsefulCount column\n",
        "for y in numeric_col:\n",
        "    #Calculating Q1, Q2, Q3 values\n",
        "    Q1=np.percentile(data[y],25,interpolation='midpoint')\n",
        "    Q2=np.percentile(data[y],50,interpolation='midpoint')\n",
        "    Q3=np.percentile(data[y],75,interpolation='midpoint')\n",
        "    print(Q1)\n",
        "    print(Q2)\n",
        "    print(Q3)\n",
        "    if(y ==\"DrugId\"):\n",
        "       limit=1.85\n",
        "    if(y ==\"UsefulCount\"):\n",
        "       limit=5\n",
        "    if(y =='EaseofUse'):\n",
        "       limit=1.5\n",
        "    print(limit)\n",
        "    #Calculating IQR, lower, upper values\n",
        "    IQR=Q3-Q1\n",
        "    low_lim=(Q1-(limit*IQR))\n",
        "    Up_lim=(Q3+(limit*IQR))\n",
        "    print(\"Outlier Lower Limit : \",low_lim)\n",
        "    print(\"Outlier Upper Limit: \",Up_lim)\n",
        "    #Determining the outliers\n",
        "    outlier=[]\n",
        "    for x in data[y]:\n",
        "        if((x>Up_lim) or (x<low_lim)):\n",
        "            outlier.append(x)\n",
        "    print(len(outlier))\n",
        "    print(\"Outlier : \",outlier)\n",
        "    #Finding Index of outliers\n",
        "    index1=data[y]>Up_lim\n",
        "    ind=[]\n",
        "    ind=data.loc[index1].index\n",
        "    print(ind)\n",
        "    #Removing outliers\n",
        "    for i in ind:\n",
        "        data.drop(i,inplace=True)\n",
        "       \n",
        "data.boxplot(numeric_col)\n",
        "data.shape"
      ],
      "execution_count": null,
      "outputs": [
        {
          "output_type": "stream",
          "text": [
            "4896.0\n",
            "9548.0\n",
            "63522.0\n",
            "1.85\n",
            "Outlier Lower Limit :  -103562.1\n",
            "Outlier Upper Limit:  171980.1\n",
            "1319\n",
            "Outlier :  [177356, 174715, 172530, 175765, 174001, 174001, 174001, 174001, 174188, 175966, 175333, 175333, 175333, 175333, 172305, 172305, 172305, 172305, 172305, 172305, 172305, 178044, 178017, 174586, 174586, 174586, 176509, 176509, 176509, 174491, 174491, 174491, 174491, 174491, 174491, 174491, 174491, 174491, 174491, 174491, 174491, 174491, 174491, 174491, 174491, 174491, 174491, 174491, 174491, 174491, 174491, 174491, 174491, 174491, 174491, 174491, 174491, 174491, 174491, 174491, 174491, 174491, 174491, 174491, 174491, 174491, 173919, 173919, 176468, 176468, 175715, 175715, 175715, 175715, 175715, 175715, 175715, 175715, 175715, 175715, 175715, 175715, 175715, 175715, 175715, 175715, 175715, 175715, 175715, 175715, 175715, 175715, 175715, 175715, 175715, 175715, 175715, 175715, 175715, 175715, 175715, 175715, 175715, 175715, 175715, 175715, 175715, 175715, 175715, 175715, 175715, 175715, 175715, 175715, 175715, 175715, 175715, 172016, 172016, 172016, 174074, 174074, 174074, 174074, 174509, 174509, 174509, 174509, 174509, 174509, 174509, 174509, 173462, 173462, 173462, 176850, 176850, 176850, 176850, 176850, 176850, 176850, 176850, 176850, 176850, 176850, 176850, 172610, 173789, 173789, 173789, 173789, 173789, 173789, 173789, 173789, 172435, 173977, 173977, 173977, 173977, 173977, 173977, 173977, 173977, 173400, 177317, 177317, 177317, 177317, 177317, 172261, 175784, 175784, 175784, 175784, 175784, 175784, 175784, 175784, 175784, 175784, 175784, 175784, 175784, 175784, 175784, 175784, 175784, 175784, 175784, 175784, 175784, 175784, 175784, 175784, 175784, 175784, 175784, 175784, 175784, 175784, 175784, 175784, 175784, 175784, 175784, 175784, 175784, 175784, 175784, 175784, 175784, 175784, 175784, 175784, 175784, 175784, 175784, 175784, 175784, 175784, 175784, 175784, 175784, 175784, 175784, 175784, 175784, 175784, 175784, 175784, 175784, 175784, 175784, 175784, 175784, 175784, 175784, 175784, 175784, 175784, 175784, 175784, 175784, 175784, 173579, 172853, 172682, 173679, 173679, 177760, 177760, 177760, 177760, 177760, 177760, 177760, 177760, 177760, 177760, 177760, 177760, 173394, 172837, 172837, 172837, 172145, 172145, 172236, 174977, 174977, 174977, 174977, 174977, 174977, 174977, 174977, 174977, 174977, 174977, 174977, 174977, 174977, 174977, 174977, 173370, 173370, 173370, 173370, 173370, 173370, 174256, 174256, 174256, 174256, 174256, 174256, 174256, 174256, 174256, 174256, 174256, 174256, 174256, 174256, 174256, 174256, 174256, 174256, 174256, 174256, 174256, 177102, 177102, 177102, 177102, 177102, 177102, 174602, 174602, 174602, 174602, 174557, 174557, 174557, 174557, 174557, 174557, 174557, 174557, 174557, 174557, 174557, 174557, 174557, 174557, 174557, 174557, 174557, 174557, 174557, 174557, 174557, 174557, 173445, 173445, 173445, 172120, 174185, 174185, 174185, 174185, 174185, 175967, 175967, 175967, 175967, 175967, 175967, 175967, 175967, 175967, 175967, 175967, 175967, 175967, 175967, 175967, 175967, 175967, 175967, 175967, 175967, 175967, 175967, 175967, 175967, 175967, 175967, 175967, 175967, 175967, 175967, 177158, 177158, 177158, 177158, 177158, 177158, 177158, 177158, 177158, 177158, 174566, 174566, 174566, 174566, 174566, 174566, 174566, 174566, 174566, 174566, 174566, 174566, 174566, 174566, 174566, 174566, 174566, 174566, 174566, 174566, 174566, 174566, 174566, 174566, 174566, 174566, 174566, 174566, 174566, 174566, 174566, 174566, 174566, 174566, 174566, 174566, 174566, 174566, 174566, 172067, 172067, 172067, 176955, 176955, 176955, 176955, 176955, 174710, 176647, 174490, 174733, 174302, 174302, 174302, 174302, 174302, 174302, 174302, 174302, 174302, 174302, 174302, 174302, 174302, 174302, 174302, 174302, 174302, 174302, 174302, 174302, 174302, 175858, 175858, 175858, 175858, 175858, 175858, 175858, 173551, 173551, 173551, 173551, 174232, 174232, 174232, 174232, 174232, 174232, 174232, 174232, 174232, 174232, 174232, 174232, 174232, 174232, 174232, 174232, 174232, 174232, 174232, 174232, 174232, 174232, 174232, 174232, 174232, 174232, 174232, 174232, 174232, 174232, 174232, 174232, 174232, 174232, 174232, 174232, 174232, 174232, 174232, 174232, 174232, 174232, 174232, 176494, 176494, 176494, 176494, 172708, 172708, 172708, 172708, 172708, 172708, 173249, 173249, 173249, 173249, 173249, 173249, 173249, 174653, 174653, 173602, 173602, 173602, 173602, 173891, 173891, 173891, 173891, 173891, 174197, 174197, 174197, 174197, 174197, 174197, 174197, 174197, 174197, 174197, 174197, 174197, 174197, 174197, 174197, 174197, 174197, 174197, 173586, 173586, 173586, 173586, 173586, 173586, 173586, 176875, 176875, 172561, 175200, 175935, 176849, 176849, 176849, 176849, 176849, 176849, 176849, 176849, 176849, 176849, 176849, 176849, 176849, 176849, 176849, 176849, 176849, 176849, 176849, 176849, 176849, 176849, 176849, 176849, 176849, 176849, 176849, 176849, 176849, 176849, 176849, 176849, 176849, 176849, 176849, 176849, 176849, 176849, 176849, 176849, 176849, 176849, 176849, 176849, 176849, 176849, 176849, 176849, 176849, 176849, 176849, 176849, 176849, 176849, 176849, 176849, 176849, 176849, 176849, 176849, 176849, 176849, 176849, 176849, 176849, 176849, 176849, 176849, 176849, 176849, 176849, 176849, 176849, 176849, 176849, 176849, 176849, 176849, 176849, 176849, 176849, 176849, 176849, 176849, 176849, 176849, 176849, 176849, 176849, 176849, 176849, 176849, 176849, 176849, 176849, 176849, 176849, 176849, 176849, 176849, 176849, 176849, 176849, 176849, 176849, 176849, 176849, 176849, 176849, 176849, 176849, 176849, 176849, 176849, 176849, 176849, 176849, 176849, 176849, 176849, 176849, 176849, 176849, 176849, 176849, 176849, 176849, 176849, 176849, 176849, 176849, 176849, 176849, 176849, 176849, 176849, 176374, 176374, 176374, 176374, 176374, 176374, 176374, 176374, 176374, 176374, 176374, 176374, 176374, 176374, 176374, 176374, 176374, 176374, 176374, 176374, 176374, 176374, 176374, 176374, 176374, 176374, 176374, 176374, 176398, 176398, 176398, 176398, 176398, 176398, 176398, 176398, 176398, 176398, 176398, 176398, 176398, 174229, 174229, 174229, 174229, 174229, 174229, 174229, 174229, 174229, 174229, 174229, 172164, 172164, 172164, 172164, 172164, 172164, 172164, 172164, 172164, 172164, 172164, 172164, 172164, 172164, 172164, 172164, 172164, 172164, 172164, 172164, 172164, 172164, 172164, 172164, 172164, 172164, 172164, 172164, 172164, 172164, 172164, 172164, 172164, 177789, 178546, 178546, 174441, 174441, 174441, 174441, 174652, 177627, 177627, 177627, 177627, 177627, 177627, 177627, 173325, 174196, 174526, 174526, 173487, 173487, 173487, 173487, 174192, 173578, 176170, 176170, 176170, 176170, 178351, 178351, 178351, 178351, 178351, 178351, 178351, 178351, 177561, 177561, 177561, 177561, 177561, 177561, 177561, 177561, 177561, 177561, 177561, 177561, 177561, 177561, 177561, 177561, 177561, 177561, 177561, 177561, 177561, 177561, 177561, 177561, 177561, 177561, 172504, 176191, 174575, 174575, 174575, 174575, 174575, 174575, 174575, 174575, 174575, 174575, 174575, 174575, 174575, 174575, 174575, 174575, 174575, 174575, 174575, 174576, 172984, 177327, 173546, 173546, 175275, 175275, 176105, 176105, 176105, 176105, 176105, 176105, 176105, 176105, 176105, 176105, 176105, 176105, 176105, 176105, 176105, 176105, 176105, 176105, 176105, 176105, 176105, 176105, 176105, 176105, 176105, 176105, 176105, 176105, 176105, 176105, 176105, 176105, 176105, 175274, 175274, 175274, 175274, 175274, 175274, 175274, 175274, 175274, 175274, 175274, 175274, 175274, 175274, 175274, 175274, 175274, 175274, 175274, 175274, 175274, 175274, 175274, 175274, 175274, 175274, 175274, 175274, 175274, 175274, 175274, 175274, 175274, 175274, 175274, 175274, 175274, 175274, 175274, 175274, 175274, 175274, 175274, 175274, 175274, 175274, 175274, 175274, 175309, 175309, 175309, 175309, 174790, 176175, 176175, 172068, 172068, 172068, 172068, 172068, 172068, 172068, 172068, 172068, 172068, 172068, 172068, 172068, 172068, 172068, 172068, 172068, 173093, 173093, 173093, 173093, 173093, 173093, 173093, 172368, 178485, 178485, 178485, 178485, 178485, 178485, 178485, 172380, 172380, 172380, 172379, 172379, 176179, 176179, 176179, 176179, 176179, 176179, 176179, 176179, 176179, 176179, 176179, 176179, 176179, 176179, 176179, 176179, 176179, 176179, 176179, 176179, 176179, 176179, 176179, 176179, 176179, 176179, 176179, 176179, 176179, 176179, 176179, 176179, 176179, 176179, 176179, 176179, 176179, 176179, 176179, 176179, 176179, 176179, 176179, 176179, 176179, 176179, 176179, 174006, 174142, 174142, 174142, 172138, 172138, 172102, 175554, 173268, 173268, 173268, 173268, 172105, 173838, 174402, 174402, 174402, 174402, 174402, 174402, 174402, 174402, 174402, 174402, 174402, 174402, 174402, 174402, 174402, 172687, 174597, 173857, 173857, 173857, 173857, 176597, 175989, 176826, 176826, 176826, 176826, 176826, 176826, 176826, 173587, 173587, 175874, 175874, 176506, 176506, 173746, 173746, 173746, 173746, 173746, 173746, 173746, 173746, 173746, 173746, 173746, 173746, 173746, 173746, 173746, 173746, 173746, 173746, 173746, 173746, 173746, 173746, 173564, 173564, 173564, 173564, 173564, 173564, 173564, 175158, 175158, 174451, 174451, 174451, 174451, 174451, 174451, 177211, 177211, 177211, 177211, 177211, 177211, 177211, 177211, 172005, 173542, 173542, 173465, 173402, 174043, 174375, 174375, 174375, 174375, 174375, 174375, 172271, 177342, 173583, 173461, 173461, 173461, 173461, 173461, 173461, 173461, 173461, 173461, 173461, 173461, 173461, 173461, 173461, 177166, 177166, 177166, 177166, 177166, 177166, 177166, 177166, 177166, 174881, 174881, 174881, 174881, 174881, 174881, 175141, 172237, 176851, 176851, 176851, 176851, 176851, 176851, 173574, 176851, 176851, 176851, 176851, 176851, 174749, 174749, 174749, 176851, 176851, 176851, 174749, 174749, 176851, 176851, 176851, 174749, 174749, 174749, 176851, 176851, 176851, 176851, 176851, 176851, 176851, 176851, 176851, 176851, 176851, 176851, 176851, 176851, 176851, 176851, 176851, 176851, 176851, 176851, 176851, 176851, 176851, 176851, 176851, 176851, 176851, 176851, 176851, 176851, 176851, 176851, 176851, 176851, 176851, 176851, 177620, 172104, 172104, 176663, 173958, 176158, 176158, 174540, 174540, 174540, 174540, 174540, 174540, 174540, 174540, 174540, 174540, 174540, 174540, 174540, 174540, 174540, 174540, 174540, 174540, 174540, 174540, 174540, 174540, 174540, 174540, 174540, 174540, 174540, 174540, 174540, 174540, 174540, 174540, 174540, 174540, 174540, 174540, 174540, 174540, 174540, 172144, 177648, 176582, 176582, 176582, 176582, 173556, 176048]\n",
            "Int64Index([  3610,   6711,   6782,   6853,  19414,  19415,  19416,  19417,\n",
            "             19718,  21553,\n",
            "            ...\n",
            "            349164, 349168, 349397, 350179, 353558, 353561, 353562, 353563,\n",
            "            359328, 360649],\n",
            "           dtype='int64', length=1319)\n",
            "1.0\n",
            "4.0\n",
            "9.0\n",
            "5\n",
            "Outlier Lower Limit :  -39.0\n",
            "Outlier Upper Limit:  49.0\n",
            "2367\n",
            "Outlier :  [60, 61, 50, 60, 54, 59, 75, 77, 66, 90, 84, 50, 55, 54, 50, 137, 53, 56, 66, 77, 56, 53, 65, 53, 53, 55, 55, 74, 50, 54, 54, 54, 63, 54, 57, 71, 51, 71, 50, 71, 53, 67, 53, 54, 54, 59, 55, 51, 55, 74, 55, 105, 50, 50, 58, 62, 52, 54, 70, 113, 83, 63, 54, 140, 88, 100, 58, 56, 66, 50, 58, 62, 52, 54, 113, 83, 54, 140, 88, 100, 58, 63, 66, 56, 70, 50, 51, 55, 61, 53, 59, 51, 59, 63, 50, 51, 50, 55, 59, 107, 52, 52, 50, 66, 54, 105, 51, 79, 96, 55, 55, 54, 88, 53, 72, 72, 51, 71, 61, 53, 60, 72, 53, 53, 53, 72, 79, 79, 97, 97, 60, 60, 57, 53, 64, 64, 50, 87, 76, 76, 68, 50, 60, 60, 72, 63, 79, 71, 52, 131, 87, 53, 53, 101, 83, 101, 83, 62, 77, 69, 68, 108, 54, 113, 154, 81, 75, 63, 54, 60, 58, 55, 53, 55, 53, 63, 67, 55, 57, 60, 66, 52, 60, 55, 53, 60, 50, 62, 53, 53, 53, 53, 53, 55, 57, 55, 70, 64, 56, 66, 50, 87, 58, 61, 56, 55, 52, 83, 66, 53, 58, 58, 66, 79, 50, 53, 75, 74, 109, 53, 59, 109, 66, 53, 60, 54, 59, 57, 58, 51, 57, 74, 53, 75, 58, 58, 109, 53, 74, 53, 75, 74, 53, 75, 109, 53, 52, 53, 66, 112, 66, 88, 63, 53, 59, 52, 77, 63, 67, 57, 50, 82, 136, 79, 96, 76, 107, 66, 80, 60, 68, 117, 55, 80, 52, 59, 84, 68, 64, 71, 52, 64, 50, 54, 57, 66, 51, 103, 56, 56, 52, 83, 58, 55, 51, 57, 57, 53, 58, 51, 52, 51, 68, 66, 63, 79, 50, 56, 51, 66, 56, 59, 55, 60, 60, 60, 51, 51, 86, 54, 51, 57, 58, 86, 54, 57, 58, 63, 63, 73, 55, 73, 55, 75, 75, 64, 51, 59, 64, 59, 50, 66, 92, 92, 92, 92, 92, 133, 133, 133, 133, 133, 80, 80, 80, 80, 60, 80, 60, 60, 60, 60, 55, 50, 52, 85, 61, 50, 85, 57, 67, 64, 64, 80, 50, 51, 51, 52, 53, 59, 51, 103, 61, 58, 72, 51, 71, 54, 69, 52, 53, 52, 64, 51, 62, 60, 69, 50, 61, 54, 52, 55, 50, 72, 52, 63, 55, 61, 53, 60, 64, 50, 66, 82, 62, 55, 119, 81, 51, 54, 52, 60, 75, 50, 74, 50, 52, 55, 55, 55, 67, 67, 67, 141, 141, 72, 141, 51, 72, 66, 53, 123, 72, 77, 65, 53, 123, 77, 65, 53, 72, 66, 66, 123, 77, 53, 65, 72, 53, 51, 71, 66, 53, 72, 66, 66, 53, 51, 53, 51, 53, 51, 71, 53, 71, 53, 51, 53, 60, 60, 60, 61, 61, 50, 50, 57, 57, 67, 67, 64, 64, 51, 51, 60, 60, 69, 69, 50, 50, 54, 54, 52, 52, 55, 55, 50, 50, 64, 64, 64, 64, 80, 80, 50, 50, 51, 51, 52, 52, 103, 103, 61, 61, 69, 69, 52, 52, 53, 53, 62, 62, 119, 119, 52, 59, 79, 57, 62, 60, 61, 51, 50, 55, 51, 54, 54, 50, 52, 100, 51, 66, 78, 72, 69, 61, 51, 56, 56, 52, 58, 54, 54, 57, 55, 51, 50, 53, 60, 63, 75, 74, 70, 73, 78, 75, 79, 85, 80, 84, 86, 86, 86, 89, 90, 92, 54, 54, 53, 53, 52, 52, 62, 59, 70, 109, 54, 62, 58, 91, 59, 55, 50, 60, 67, 51, 51, 55, 108, 59, 57, 51, 54, 80, 55, 68, 55, 52, 51, 73, 63, 51, 64, 84, 53, 112, 74, 101, 50, 58, 52, 55, 68, 58, 68, 55, 54, 135, 70, 51, 110, 56, 74, 65, 79, 90, 169, 70, 62, 62, 52, 64, 71, 50, 59, 55, 66, 60, 63, 59, 53, 62, 55, 72, 176, 178, 52, 64, 50, 61, 50, 57, 55, 126, 56, 50, 55, 58, 53, 50, 56, 51, 65, 56, 57, 90, 52, 62, 82, 58, 59, 63, 78, 56, 76, 58, 53, 57, 51, 63, 57, 53, 59, 80, 94, 96, 64, 70, 52, 54, 58, 88, 88, 50, 52, 64, 64, 54, 64, 78, 59, 84, 53, 52, 55, 64, 78, 84, 59, 52, 61, 55, 112, 50, 50, 74, 74, 51, 51, 77, 77, 53, 53, 51, 51, 54, 54, 61, 59, 84, 71, 61, 59, 71, 84, 77, 77, 67, 67, 57, 57, 127, 127, 101, 101, 51, 51, 57, 89, 57, 89, 88, 64, 77, 53, 51, 64, 78, 59, 55, 84, 52, 50, 74, 51, 54, 61, 59, 71, 84, 77, 67, 57, 127, 101, 51, 57, 89, 56, 88, 62, 61, 96, 78, 80, 52, 51, 59, 74, 52, 55, 69, 56, 67, 71, 68, 63, 68, 61, 89, 87, 99, 83, 57, 68, 51, 83, 68, 51, 62, 50, 53, 50, 53, 57, 55, 52, 75, 64, 56, 77, 87, 83, 84, 100, 56, 53, 68, 50, 53, 54, 71, 54, 56, 61, 53, 51, 60, 50, 63, 57, 77, 52, 56, 64, 51, 61, 56, 57, 50, 66, 75, 58, 52, 61, 56, 54, 56, 53, 52, 56, 55, 50, 59, 62, 52, 66, 52, 51, 53, 51, 141, 51, 51, 82, 51, 50, 58, 53, 51, 53, 56, 55, 55, 60, 51, 63, 104, 68, 54, 76, 50, 55, 53, 94, 50, 55, 52, 101, 52, 51, 58, 51, 50, 51, 53, 51, 51, 51, 94, 60, 78, 60, 63, 60, 69, 84, 72, 64, 62, 64, 72, 56, 61, 68, 70, 92, 80, 101, 69, 54, 78, 82, 51, 70, 51, 86, 81, 70, 64, 64, 77, 55, 74, 103, 255, 51, 52, 67, 55, 57, 61, 50, 76, 60, 55, 61, 81, 57, 50, 59, 56, 54, 50, 53, 63, 79, 96, 71, 54, 50, 51, 73, 52, 82, 57, 66, 54, 65, 52, 107, 78, 105, 50, 53, 50, 51, 59, 51, 52, 54, 94, 50, 50, 53, 62, 53, 51, 68, 98, 126, 69, 66, 53, 68, 69, 73, 60, 64, 58, 51, 69, 53, 57, 72, 52, 67, 53, 54, 85, 54, 66, 106, 66, 50, 63, 60, 58, 90, 71, 52, 135, 54, 90, 79, 56, 63, 55, 57, 63, 87, 134, 69, 57, 57, 50, 52, 51, 58, 72, 68, 78, 52, 55, 55, 51, 63, 72, 55, 55, 76, 76, 57, 57, 50, 50, 67, 67, 52, 57, 50, 57, 52, 66, 121, 67, 78, 55, 52, 60, 57, 67, 78, 55, 52, 60, 57, 51, 63, 57, 51, 52, 63, 57, 50, 57, 83, 78, 54, 121, 83, 80, 78, 92, 50, 50, 56, 92, 94, 89, 74, 67, 50, 59, 52, 66, 59, 52, 52, 53, 53, 53, 54, 61, 51, 62, 62, 57, 61, 57, 52, 52, 53, 56, 60, 53, 72, 63, 53, 50, 56, 58, 65, 52, 52, 68, 94, 64, 68, 66, 76, 70, 59, 56, 63, 55, 51, 55, 61, 58, 81, 87, 66, 77, 60, 54, 54, 60, 61, 81, 71, 107, 50, 51, 56, 65, 71, 80, 53, 78, 53, 111, 71, 52, 80, 50, 50, 62, 56, 56, 84, 97, 90, 50, 50, 61, 75, 66, 59, 53, 51, 90, 50, 50, 61, 61, 75, 59, 51, 53, 61, 55, 55, 51, 53, 54, 53, 69, 53, 76, 81, 52, 55, 58, 55, 57, 59, 102, 74, 53, 58, 69, 114, 66, 53, 60, 76, 81, 65, 92, 51, 70, 52, 72, 59, 59, 70, 64, 59, 78, 51, 64, 63, 61, 82, 75, 120, 70, 78, 50, 84, 60, 90, 60, 92, 74, 73, 52, 60, 51, 70, 66, 54, 156, 60, 58, 51, 54, 94, 78, 50, 56, 62, 58, 52, 67, 59, 57, 62, 50, 53, 53, 53, 67, 54, 54, 55, 55, 51, 73, 81, 50, 52, 60, 59, 57, 50, 52, 54, 50, 75, 75, 75, 76, 76, 76, 99, 99, 99, 76, 76, 76, 76, 76, 76, 59, 59, 59, 67, 67, 67, 66, 66, 66, 51, 51, 66, 66, 74, 50, 53, 51, 66, 71, 71, 71, 71, 57, 71, 75, 50, 50, 76, 71, 99, 76, 76, 59, 67, 66, 50, 51, 50, 50, 66, 71, 71, 51, 69, 55, 50, 50, 53, 61, 61, 61, 61, 92, 81, 56, 53, 59, 58, 55, 66, 54, 62, 51, 66, 64, 51, 69, 74, 55, 52, 60, 56, 77, 52, 52, 65, 54, 56, 53, 65, 57, 50, 74, 91, 51, 59, 51, 83, 64, 52, 69, 80, 52, 69, 52, 80, 69, 52, 52, 69, 80, 69, 80, 80, 61, 61, 61, 61, 61, 52, 52, 52, 52, 52, 57, 65, 56, 54, 70, 65, 55, 55, 63, 51, 78, 57, 54, 63, 61, 59, 54, 55, 222, 70, 50, 53, 61, 61, 63, 109, 69, 59, 54, 58, 56, 64, 53, 84, 58, 107, 68, 51, 66, 70, 51, 57, 71, 58, 58, 79, 51, 59, 66, 53, 59, 54, 53, 75, 60, 52, 71, 86, 83, 60, 62, 50, 51, 53, 52, 69, 85, 79, 55, 59, 57, 57, 51, 56, 72, 65, 62, 76, 62, 52, 80, 56, 58, 81, 57, 75, 74, 56, 61, 53, 51, 94, 51, 57, 50, 55, 62, 85, 61, 76, 110, 86, 77, 70, 82, 56, 64, 58, 77, 71, 84, 81, 86, 76, 60, 62, 53, 121, 64, 72, 54, 60, 90, 92, 75, 72, 51, 127, 53, 52, 67, 67, 67, 60, 65, 53, 67, 67, 70, 52, 53, 59, 88, 67, 54, 52, 75, 50, 68, 61, 51, 51, 67, 55, 54, 129, 58, 71, 72, 53, 166, 142, 58, 53, 106, 107, 75, 74, 54, 75, 58, 88, 85, 76, 53, 50, 81, 68, 62, 51, 57, 58, 52, 60, 67, 54, 51, 58, 89, 57, 73, 68, 66, 64, 53, 50, 52, 52, 57, 99, 78, 51, 81, 51, 61, 77, 68, 65, 64, 59, 84, 56, 59, 53, 50, 55, 64, 60, 60, 66, 54, 82, 125, 56, 79, 79, 86, 69, 56, 55, 60, 56, 55, 60, 52, 73, 59, 64, 113, 120, 85, 69, 62, 72, 54, 63, 52, 55, 57, 57, 57, 80, 56, 80, 56, 80, 53, 56, 53, 71, 51, 53, 60, 71, 51, 71, 60, 51, 67, 60, 54, 67, 54, 67, 54, 54, 64, 55, 62, 55, 55, 91, 51, 109, 61, 59, 72, 61, 64, 59, 51, 72, 115, 70, 111, 66, 62, 64, 51, 73, 115, 63, 70, 111, 66, 62, 59, 73, 69, 66, 50, 63, 93, 59, 69, 66, 52, 50, 62, 93, 52, 62, 115, 61, 59, 62, 72, 50, 64, 51, 75, 115, 70, 111, 66, 62, 73, 63, 59, 69, 66, 50, 93, 70, 82, 84, 59, 77, 50, 52, 52, 62, 62, 86, 69, 54, 76, 85, 70, 82, 84, 64, 59, 77, 50, 52, 62, 66, 86, 69, 54, 76, 85, 64, 66, 70, 82, 84, 59, 77, 50, 52, 52, 62, 86, 69, 54, 76, 85, 64, 66, 58, 58, 52, 62, 62, 52, 58, 102, 54, 62, 54, 55, 55, 51, 102, 51, 64, 102, 62, 109, 64, 63, 63, 69, 62, 51, 69, 51, 109, 55, 115, 55, 62, 91, 63, 50, 75, 69, 51, 55, 115, 62, 55, 91, 50, 75, 61, 68, 55, 51, 53, 100, 100, 82, 82, 63, 63, 64, 64, 70, 79, 61, 88, 70, 78, 73, 63, 53, 67, 112, 58, 83, 75, 56, 86, 65, 69, 64, 65, 55, 51, 54, 54, 53, 67, 53, 62, 51, 76, 51, 63, 56, 70, 73, 51, 58, 63, 78, 57, 81, 50, 61, 56, 65, 68, 54, 53, 52, 64, 77, 91, 76, 98, 52, 89, 53, 91, 119, 58, 87, 61, 53, 77, 62, 59, 63, 51, 50, 85, 66, 76, 82, 52, 132, 122, 50, 50, 128, 84, 56, 56, 58, 51, 52, 57, 62, 53, 60, 112, 66, 62, 50, 50, 121, 87, 128, 50, 56, 60, 57, 52, 80, 56, 56, 71, 52, 59, 73, 60, 70, 53, 78, 73, 59, 50, 53, 76, 62, 58, 51, 75, 68, 55, 188, 88, 63, 61, 56, 81, 53, 53, 66, 52, 114, 110, 64, 79, 54, 74, 85, 57, 51, 62, 71, 51, 55, 52, 51, 51, 54, 59, 55, 75, 84, 75, 84, 69, 109, 69, 109, 50, 55, 57, 51, 71, 51, 71, 61, 55, 75, 84, 55, 69, 109, 56, 64, 69, 68, 60, 56, 51, 71, 55, 68, 68, 85, 85, 71, 71, 52, 52, 55, 55, 53, 56, 51, 54, 75, 50, 63, 63, 51, 75, 56, 60, 65, 59, 50, 65, 51, 50, 111, 78, 67, 54, 53, 59, 50, 56, 51, 52, 51, 58, 64, 53, 55, 54, 54, 69, 79, 69, 66, 67, 50, 50, 53, 57, 81, 54, 75, 51, 80, 56, 56, 71, 103, 61, 93, 90, 134, 145, 51, 56, 93, 82, 58, 60, 50, 116, 51, 65, 97, 56, 77, 129, 50, 68, 59, 58, 81, 59, 70, 52, 79, 91, 67, 63, 72, 50, 54, 85, 50, 54, 54, 51, 51, 52, 52, 61, 61, 50, 50, 54, 50, 53, 61, 53, 53, 54, 56, 56, 55, 54, 54, 54, 50, 58, 61, 56, 61, 54, 59, 58, 61, 95, 59, 50, 75, 94, 51, 54, 66, 55, 50, 54, 77, 75, 57, 61, 60, 52, 81, 102, 64, 54, 53, 66, 102, 52, 52, 61, 56, 62, 61, 65, 66, 77, 54, 54, 50, 54, 51, 51, 140, 62, 70, 56, 52, 50, 57, 50, 65, 57, 65, 57, 57, 81, 57, 50, 81, 57, 50, 81, 57, 50, 81, 57, 50, 81, 57, 50, 52, 56, 79, 67, 50, 59, 61, 104, 50, 55, 63, 85, 57, 70, 61, 76, 55, 55, 77, 59, 55, 71, 84, 71, 50, 55, 104, 63, 58, 52, 52, 58, 52, 58, 52, 52, 52, 58, 52, 52, 55, 90, 64, 51, 91, 76, 55, 76, 53, 97, 58, 59, 51, 63, 76, 72, 65, 60, 59, 53, 52, 117, 108, 90, 91, 60, 76, 83, 54, 50, 87, 75, 60, 78, 53, 63, 81]\n",
            "Int64Index([   263,    270,    271,    291,    299,    605,    660,    661,\n",
            "               662,    963,\n",
            "            ...\n",
            "            361005, 361083, 361151, 361155, 361226, 361248, 361286, 361916,\n",
            "            361991, 362734],\n",
            "           dtype='int64', length=2367)\n",
            "3.0\n",
            "5.0\n",
            "5.0\n",
            "1.5\n",
            "Outlier Lower Limit :  0.0\n",
            "Outlier Upper Limit:  8.0\n",
            "1\n",
            "Outlier :  [10]\n",
            "Int64Index([273577], dtype='int64')\n"
          ],
          "name": "stdout"
        },
        {
          "output_type": "execute_result",
          "data": {
            "text/plain": [
              "(359119, 16)"
            ]
          },
          "metadata": {
            "tags": []
          },
          "execution_count": 32
        },
        {
          "output_type": "display_data",
          "data": {
            "image/png": "[encoded data removed]",
            "text/plain": [
              "<Figure size 432x288 with 1 Axes>"
            ]
          },
          "metadata": {
            "tags": [],
            "needs_background": "light"
          }
        }
      ]
    },
    {
      "cell_type": "markdown",
      "metadata": {
        "id": "o1_kxpirF4R-"
      },
      "source": [
        "So I had deleted 1319 + 2367 + 1 = 3687 rows as part of outlier detection."
      ]
    },
    {
      "cell_type": "code",
      "metadata": {
        "id": "NUMSwY_n9LxK"
      },
      "source": [
        "#Model creation"
      ],
      "execution_count": null,
      "outputs": []
    },
    {
      "cell_type": "code",
      "metadata": {
        "colab": {
          "base_uri": "https://localhost:8080/",
          "height": 287
        },
        "id": "sO4_CNJb0Rzw",
        "outputId": "eeb0bc2f-230c-4e45-dcf8-78b4f24c3504"
      },
      "source": [
        "data.head()"
      ],
      "execution_count": null,
      "outputs": [
        {
          "output_type": "execute_result",
          "data": {
            "text/html": [
              "<div>\n",
              "<style scoped>\n",
              "    .dataframe tbody tr th:only-of-type {\n",
              "        vertical-align: middle;\n",
              "    }\n",
              "\n",
              "    .dataframe tbody tr th {\n",
              "        vertical-align: top;\n",
              "    }\n",
              "\n",
              "    .dataframe thead th {\n",
              "        text-align: right;\n",
              "    }\n",
              "</style>\n",
              "<table border=\"1\" class=\"dataframe\">\n",
              "  <thead>\n",
              "    <tr style=\"text-align: right;\">\n",
              "      <th></th>\n",
              "      <th>Age</th>\n",
              "      <th>Condition</th>\n",
              "      <th>Date</th>\n",
              "      <th>Drug</th>\n",
              "      <th>DrugId</th>\n",
              "      <th>EaseofUse</th>\n",
              "      <th>Effectiveness</th>\n",
              "      <th>Satisfaction</th>\n",
              "      <th>Sex</th>\n",
              "      <th>Sides</th>\n",
              "      <th>UsefulCount</th>\n",
              "      <th>Year</th>\n",
              "      <th>Month</th>\n",
              "      <th>Day</th>\n",
              "      <th>Hour</th>\n",
              "      <th>Weekday</th>\n",
              "    </tr>\n",
              "  </thead>\n",
              "  <tbody>\n",
              "    <tr>\n",
              "      <th>0</th>\n",
              "      <td>75 or over</td>\n",
              "      <td>Stuffy Nose</td>\n",
              "      <td>2014-09-21</td>\n",
              "      <td>25dph-7.5peh</td>\n",
              "      <td>146724</td>\n",
              "      <td>5</td>\n",
              "      <td>5</td>\n",
              "      <td>5</td>\n",
              "      <td>Male</td>\n",
              "      <td>Drowsiness,  dizziness ,  dry mouth /nose/thro...</td>\n",
              "      <td>0</td>\n",
              "      <td>2014</td>\n",
              "      <td>Sep</td>\n",
              "      <td>21</td>\n",
              "      <td>0</td>\n",
              "      <td>Sun</td>\n",
              "    </tr>\n",
              "    <tr>\n",
              "      <th>1</th>\n",
              "      <td>25-34</td>\n",
              "      <td>Cold Symptoms</td>\n",
              "      <td>2011-01-13</td>\n",
              "      <td>25dph-7.5peh</td>\n",
              "      <td>146724</td>\n",
              "      <td>5</td>\n",
              "      <td>5</td>\n",
              "      <td>5</td>\n",
              "      <td>Female</td>\n",
              "      <td>Drowsiness,  dizziness ,  dry mouth /nose/thro...</td>\n",
              "      <td>1</td>\n",
              "      <td>2011</td>\n",
              "      <td>Jan</td>\n",
              "      <td>13</td>\n",
              "      <td>0</td>\n",
              "      <td>Thu</td>\n",
              "    </tr>\n",
              "    <tr>\n",
              "      <th>2</th>\n",
              "      <td>65-74</td>\n",
              "      <td>Other</td>\n",
              "      <td>2012-07-16</td>\n",
              "      <td>warfarin (bulk) 100 % powder</td>\n",
              "      <td>144731</td>\n",
              "      <td>2</td>\n",
              "      <td>3</td>\n",
              "      <td>3</td>\n",
              "      <td>Female</td>\n",
              "      <td></td>\n",
              "      <td>0</td>\n",
              "      <td>2012</td>\n",
              "      <td>Jul</td>\n",
              "      <td>16</td>\n",
              "      <td>0</td>\n",
              "      <td>Mon</td>\n",
              "    </tr>\n",
              "    <tr>\n",
              "      <th>3</th>\n",
              "      <td>75 or over</td>\n",
              "      <td>Other</td>\n",
              "      <td>2010-09-23</td>\n",
              "      <td>warfarin (bulk) 100 % powder</td>\n",
              "      <td>144731</td>\n",
              "      <td>2</td>\n",
              "      <td>2</td>\n",
              "      <td>1</td>\n",
              "      <td>Female</td>\n",
              "      <td></td>\n",
              "      <td>0</td>\n",
              "      <td>2010</td>\n",
              "      <td>Sep</td>\n",
              "      <td>23</td>\n",
              "      <td>0</td>\n",
              "      <td>Thu</td>\n",
              "    </tr>\n",
              "    <tr>\n",
              "      <th>4</th>\n",
              "      <td>35-44</td>\n",
              "      <td>Other</td>\n",
              "      <td>2009-01-06</td>\n",
              "      <td>warfarin (bulk) 100 % powder</td>\n",
              "      <td>144731</td>\n",
              "      <td>1</td>\n",
              "      <td>1</td>\n",
              "      <td>1</td>\n",
              "      <td>Male</td>\n",
              "      <td></td>\n",
              "      <td>1</td>\n",
              "      <td>2009</td>\n",
              "      <td>Jan</td>\n",
              "      <td>6</td>\n",
              "      <td>0</td>\n",
              "      <td>Tue</td>\n",
              "    </tr>\n",
              "  </tbody>\n",
              "</table>\n",
              "</div>"
            ],
            "text/plain": [
              "          Age      Condition       Date  ... Day  Hour  Weekday\n",
              "0  75 or over    Stuffy Nose 2014-09-21  ...  21     0      Sun\n",
              "1       25-34  Cold Symptoms 2011-01-13  ...  13     0      Thu\n",
              "2       65-74          Other 2012-07-16  ...  16     0      Mon\n",
              "3  75 or over          Other 2010-09-23  ...  23     0      Thu\n",
              "4       35-44          Other 2009-01-06  ...   6     0      Tue\n",
              "\n",
              "[5 rows x 16 columns]"
            ]
          },
          "metadata": {
            "tags": []
          },
          "execution_count": 34
        }
      ]
    },
    {
      "cell_type": "code",
      "metadata": {
        "id": "4ch4VRbxTjfp"
      },
      "source": [
        "categorical_coln= ['Age', 'Condition',  'Drug',  'Sex', 'Sides',\n",
        "       'Year', 'Month', 'Day', 'Hour', 'Weekday']"
      ],
      "execution_count": null,
      "outputs": []
    },
    {
      "cell_type": "markdown",
      "metadata": {
        "id": "bEbaFV9mUT0u"
      },
      "source": [
        "#Applying Encoding mechanism"
      ]
    },
    {
      "cell_type": "code",
      "metadata": {
        "id": "ViRsgsoDTlZ9"
      },
      "source": [
        "for y in categorical_coln:\n",
        "    data[y] = pd. factorize(data[y])[0]"
      ],
      "execution_count": null,
      "outputs": []
    },
    {
      "cell_type": "code",
      "metadata": {
        "colab": {
          "base_uri": "https://localhost:8080/",
          "height": 203
        },
        "id": "YYSPzwvWTrQW",
        "outputId": "744240f4-b12f-4e27-ebb4-7d6afdede43b"
      },
      "source": [
        "data.head()"
      ],
      "execution_count": null,
      "outputs": [
        {
          "output_type": "execute_result",
          "data": {
            "text/html": [
              "<div>\n",
              "<style scoped>\n",
              "    .dataframe tbody tr th:only-of-type {\n",
              "        vertical-align: middle;\n",
              "    }\n",
              "\n",
              "    .dataframe tbody tr th {\n",
              "        vertical-align: top;\n",
              "    }\n",
              "\n",
              "    .dataframe thead th {\n",
              "        text-align: right;\n",
              "    }\n",
              "</style>\n",
              "<table border=\"1\" class=\"dataframe\">\n",
              "  <thead>\n",
              "    <tr style=\"text-align: right;\">\n",
              "      <th></th>\n",
              "      <th>Age</th>\n",
              "      <th>Condition</th>\n",
              "      <th>Date</th>\n",
              "      <th>Drug</th>\n",
              "      <th>DrugId</th>\n",
              "      <th>EaseofUse</th>\n",
              "      <th>Effectiveness</th>\n",
              "      <th>Satisfaction</th>\n",
              "      <th>Sex</th>\n",
              "      <th>Sides</th>\n",
              "      <th>UsefulCount</th>\n",
              "      <th>Year</th>\n",
              "      <th>Month</th>\n",
              "      <th>Day</th>\n",
              "      <th>Hour</th>\n",
              "      <th>Weekday</th>\n",
              "    </tr>\n",
              "  </thead>\n",
              "  <tbody>\n",
              "    <tr>\n",
              "      <th>0</th>\n",
              "      <td>0</td>\n",
              "      <td>0</td>\n",
              "      <td>2014-09-21</td>\n",
              "      <td>0</td>\n",
              "      <td>146724</td>\n",
              "      <td>5</td>\n",
              "      <td>5</td>\n",
              "      <td>5</td>\n",
              "      <td>0</td>\n",
              "      <td>0</td>\n",
              "      <td>0</td>\n",
              "      <td>0</td>\n",
              "      <td>0</td>\n",
              "      <td>0</td>\n",
              "      <td>0</td>\n",
              "      <td>0</td>\n",
              "    </tr>\n",
              "    <tr>\n",
              "      <th>1</th>\n",
              "      <td>1</td>\n",
              "      <td>1</td>\n",
              "      <td>2011-01-13</td>\n",
              "      <td>0</td>\n",
              "      <td>146724</td>\n",
              "      <td>5</td>\n",
              "      <td>5</td>\n",
              "      <td>5</td>\n",
              "      <td>1</td>\n",
              "      <td>0</td>\n",
              "      <td>1</td>\n",
              "      <td>1</td>\n",
              "      <td>1</td>\n",
              "      <td>1</td>\n",
              "      <td>0</td>\n",
              "      <td>1</td>\n",
              "    </tr>\n",
              "    <tr>\n",
              "      <th>2</th>\n",
              "      <td>2</td>\n",
              "      <td>2</td>\n",
              "      <td>2012-07-16</td>\n",
              "      <td>1</td>\n",
              "      <td>144731</td>\n",
              "      <td>2</td>\n",
              "      <td>3</td>\n",
              "      <td>3</td>\n",
              "      <td>1</td>\n",
              "      <td>1</td>\n",
              "      <td>0</td>\n",
              "      <td>2</td>\n",
              "      <td>2</td>\n",
              "      <td>2</td>\n",
              "      <td>0</td>\n",
              "      <td>2</td>\n",
              "    </tr>\n",
              "    <tr>\n",
              "      <th>3</th>\n",
              "      <td>0</td>\n",
              "      <td>2</td>\n",
              "      <td>2010-09-23</td>\n",
              "      <td>1</td>\n",
              "      <td>144731</td>\n",
              "      <td>2</td>\n",
              "      <td>2</td>\n",
              "      <td>1</td>\n",
              "      <td>1</td>\n",
              "      <td>1</td>\n",
              "      <td>0</td>\n",
              "      <td>3</td>\n",
              "      <td>0</td>\n",
              "      <td>3</td>\n",
              "      <td>0</td>\n",
              "      <td>1</td>\n",
              "    </tr>\n",
              "    <tr>\n",
              "      <th>4</th>\n",
              "      <td>3</td>\n",
              "      <td>2</td>\n",
              "      <td>2009-01-06</td>\n",
              "      <td>1</td>\n",
              "      <td>144731</td>\n",
              "      <td>1</td>\n",
              "      <td>1</td>\n",
              "      <td>1</td>\n",
              "      <td>0</td>\n",
              "      <td>1</td>\n",
              "      <td>1</td>\n",
              "      <td>4</td>\n",
              "      <td>1</td>\n",
              "      <td>4</td>\n",
              "      <td>0</td>\n",
              "      <td>3</td>\n",
              "    </tr>\n",
              "  </tbody>\n",
              "</table>\n",
              "</div>"
            ],
            "text/plain": [
              "   Age  Condition       Date  Drug  DrugId  ...  Year  Month  Day  Hour  Weekday\n",
              "0    0          0 2014-09-21     0  146724  ...     0      0    0     0        0\n",
              "1    1          1 2011-01-13     0  146724  ...     1      1    1     0        1\n",
              "2    2          2 2012-07-16     1  144731  ...     2      2    2     0        2\n",
              "3    0          2 2010-09-23     1  144731  ...     3      0    3     0        1\n",
              "4    3          2 2009-01-06     1  144731  ...     4      1    4     0        3\n",
              "\n",
              "[5 rows x 16 columns]"
            ]
          },
          "metadata": {
            "tags": []
          },
          "execution_count": 37
        }
      ]
    },
    {
      "cell_type": "code",
      "metadata": {
        "colab": {
          "base_uri": "https://localhost:8080/"
        },
        "id": "BNGS0qvmK417",
        "outputId": "3e5f548f-4358-42f5-a8e4-5f7181294966"
      },
      "source": [
        "data.shape"
      ],
      "execution_count": null,
      "outputs": [
        {
          "output_type": "execute_result",
          "data": {
            "text/plain": [
              "(359119, 16)"
            ]
          },
          "metadata": {
            "tags": []
          },
          "execution_count": 38
        }
      ]
    },
    {
      "cell_type": "markdown",
      "metadata": {
        "id": "XDpP0CcZEl6q"
      },
      "source": [
        "# Feature Selection"
      ]
    },
    {
      "cell_type": "code",
      "metadata": {
        "id": "75OkUxlbBbqb"
      },
      "source": [
        "#Check Heat map,for feature selection"
      ],
      "execution_count": null,
      "outputs": []
    },
    {
      "cell_type": "code",
      "metadata": {
        "colab": {
          "base_uri": "https://localhost:8080/",
          "height": 747
        },
        "id": "ZtOJTte3Blhb",
        "outputId": "9b0d75f0-d5a1-479f-85e6-98580e42b8c0"
      },
      "source": [
        "plt.rcParams['figure.figsize'] = (14,12)\n",
        "sns.heatmap(data.corr(), vmin=-1, vmax=1, center=0,\n",
        "            square=True, cmap = sns.diverging_palette(240, 10, n=9))\n",
        "plt.show()"
      ],
      "execution_count": null,
      "outputs": [
        {
          "output_type": "display_data",
          "data": {
            "image/png": "[encoded data removed]",
            "text/plain": [
              "<Figure size 1008x864 with 2 Axes>"
            ]
          },
          "metadata": {
            "tags": [],
            "needs_background": "light"
          }
        }
      ]
    },
    {
      "cell_type": "code",
      "metadata": {
        "colab": {
          "base_uri": "https://localhost:8080/"
        },
        "id": "6jOjHRXjEfqI",
        "outputId": "f03204f6-cce1-4d78-c930-0f33eea4ea32"
      },
      "source": [
        "cor = data.corr()\n",
        "\n",
        "#Correlation with output variable\n",
        "cor_target = abs(cor[\"Effectiveness\"])\n",
        "\n",
        "#Selecting highly correlated features,setting a cutoff value for corelation\n",
        "relevant_features = cor_target[cor_target>0.015]\n",
        "relevant_features"
      ],
      "execution_count": null,
      "outputs": [
        {
          "output_type": "execute_result",
          "data": {
            "text/plain": [
              "EaseofUse        0.550101\n",
              "Effectiveness    1.000000\n",
              "Satisfaction     0.792629\n",
              "Sex              0.018424\n",
              "UsefulCount      0.047634\n",
              "Year             0.017223\n",
              "Name: Effectiveness, dtype: float64"
            ]
          },
          "metadata": {
            "tags": []
          },
          "execution_count": 41
        }
      ]
    },
    {
      "cell_type": "code",
      "metadata": {
        "colab": {
          "base_uri": "https://localhost:8080/"
        },
        "id": "xiowUbeMYVL6",
        "outputId": "c6a6feea-ff6e-4f4d-8178-315428e219f5"
      },
      "source": [
        "data.columns"
      ],
      "execution_count": null,
      "outputs": [
        {
          "output_type": "execute_result",
          "data": {
            "text/plain": [
              "Index(['Age', 'Condition', 'Date', 'Drug', 'DrugId', 'EaseofUse',\n",
              "       'Effectiveness', 'Satisfaction', 'Sex', 'Sides', 'UsefulCount', 'Year',\n",
              "       'Month', 'Day', 'Hour', 'Weekday'],\n",
              "      dtype='object')"
            ]
          },
          "metadata": {
            "tags": []
          },
          "execution_count": 42
        }
      ]
    },
    {
      "cell_type": "markdown",
      "metadata": {
        "id": "s2BeLXLOUo9O"
      },
      "source": [
        "#Selected Features"
      ]
    },
    {
      "cell_type": "code",
      "metadata": {
        "id": "ie-kfiHNjfqn"
      },
      "source": [
        "sel_features = ['Age', 'Condition',  'Drug',  'EaseofUse','Satisfaction',\n",
        "        'Effectiveness', 'Sex', 'Sides', 'Year']"
      ],
      "execution_count": null,
      "outputs": []
    },
    {
      "cell_type": "markdown",
      "metadata": {
        "id": "eeUUS7WiUyNz"
      },
      "source": [
        "#Removing Irrelevant fields"
      ]
    },
    {
      "cell_type": "code",
      "metadata": {
        "id": "sNyvivWakxPv"
      },
      "source": [
        "data1 = data.filter(sel_features, axis=1)"
      ],
      "execution_count": null,
      "outputs": []
    },
    {
      "cell_type": "code",
      "metadata": {
        "colab": {
          "base_uri": "https://localhost:8080/"
        },
        "id": "NdeFAnQNNqcE",
        "outputId": "1dda56ef-8133-44f4-8d33-d84ec4dc8e25"
      },
      "source": [
        "data1.shape"
      ],
      "execution_count": null,
      "outputs": [
        {
          "output_type": "execute_result",
          "data": {
            "text/plain": [
              "(359119, 9)"
            ]
          },
          "metadata": {
            "tags": []
          },
          "execution_count": 45
        }
      ]
    },
    {
      "cell_type": "code",
      "metadata": {
        "colab": {
          "base_uri": "https://localhost:8080/",
          "height": 203
        },
        "id": "f5IikrBGlArN",
        "outputId": "dbcee57d-346d-465e-a717-7d416f152eeb"
      },
      "source": [
        "data1.head()"
      ],
      "execution_count": null,
      "outputs": [
        {
          "output_type": "execute_result",
          "data": {
            "text/html": [
              "<div>\n",
              "<style scoped>\n",
              "    .dataframe tbody tr th:only-of-type {\n",
              "        vertical-align: middle;\n",
              "    }\n",
              "\n",
              "    .dataframe tbody tr th {\n",
              "        vertical-align: top;\n",
              "    }\n",
              "\n",
              "    .dataframe thead th {\n",
              "        text-align: right;\n",
              "    }\n",
              "</style>\n",
              "<table border=\"1\" class=\"dataframe\">\n",
              "  <thead>\n",
              "    <tr style=\"text-align: right;\">\n",
              "      <th></th>\n",
              "      <th>Age</th>\n",
              "      <th>Condition</th>\n",
              "      <th>Drug</th>\n",
              "      <th>EaseofUse</th>\n",
              "      <th>Satisfaction</th>\n",
              "      <th>Effectiveness</th>\n",
              "      <th>Sex</th>\n",
              "      <th>Sides</th>\n",
              "      <th>Year</th>\n",
              "    </tr>\n",
              "  </thead>\n",
              "  <tbody>\n",
              "    <tr>\n",
              "      <th>0</th>\n",
              "      <td>0</td>\n",
              "      <td>0</td>\n",
              "      <td>0</td>\n",
              "      <td>5</td>\n",
              "      <td>5</td>\n",
              "      <td>5</td>\n",
              "      <td>0</td>\n",
              "      <td>0</td>\n",
              "      <td>0</td>\n",
              "    </tr>\n",
              "    <tr>\n",
              "      <th>1</th>\n",
              "      <td>1</td>\n",
              "      <td>1</td>\n",
              "      <td>0</td>\n",
              "      <td>5</td>\n",
              "      <td>5</td>\n",
              "      <td>5</td>\n",
              "      <td>1</td>\n",
              "      <td>0</td>\n",
              "      <td>1</td>\n",
              "    </tr>\n",
              "    <tr>\n",
              "      <th>2</th>\n",
              "      <td>2</td>\n",
              "      <td>2</td>\n",
              "      <td>1</td>\n",
              "      <td>2</td>\n",
              "      <td>3</td>\n",
              "      <td>3</td>\n",
              "      <td>1</td>\n",
              "      <td>1</td>\n",
              "      <td>2</td>\n",
              "    </tr>\n",
              "    <tr>\n",
              "      <th>3</th>\n",
              "      <td>0</td>\n",
              "      <td>2</td>\n",
              "      <td>1</td>\n",
              "      <td>2</td>\n",
              "      <td>1</td>\n",
              "      <td>2</td>\n",
              "      <td>1</td>\n",
              "      <td>1</td>\n",
              "      <td>3</td>\n",
              "    </tr>\n",
              "    <tr>\n",
              "      <th>4</th>\n",
              "      <td>3</td>\n",
              "      <td>2</td>\n",
              "      <td>1</td>\n",
              "      <td>1</td>\n",
              "      <td>1</td>\n",
              "      <td>1</td>\n",
              "      <td>0</td>\n",
              "      <td>1</td>\n",
              "      <td>4</td>\n",
              "    </tr>\n",
              "  </tbody>\n",
              "</table>\n",
              "</div>"
            ],
            "text/plain": [
              "   Age  Condition  Drug  EaseofUse  ...  Effectiveness  Sex  Sides  Year\n",
              "0    0          0     0          5  ...              5    0      0     0\n",
              "1    1          1     0          5  ...              5    1      0     1\n",
              "2    2          2     1          2  ...              3    1      1     2\n",
              "3    0          2     1          2  ...              2    1      1     3\n",
              "4    3          2     1          1  ...              1    0      1     4\n",
              "\n",
              "[5 rows x 9 columns]"
            ]
          },
          "metadata": {
            "tags": []
          },
          "execution_count": 46
        }
      ]
    },
    {
      "cell_type": "markdown",
      "metadata": {
        "id": "OOAQuB3cZETu"
      },
      "source": [
        "Writing the Preprocessed data to a file:"
      ]
    },
    {
      "cell_type": "markdown",
      "metadata": {
        "id": "EQICrKt-A2q5"
      },
      "source": [
        "# MODEL CREATION"
      ]
    },
    {
      "cell_type": "code",
      "metadata": {
        "id": "9eZfH7URlFyE"
      },
      "source": [
        "#Creating train test  model"
      ],
      "execution_count": null,
      "outputs": []
    },
    {
      "cell_type": "code",
      "metadata": {
        "colab": {
          "base_uri": "https://localhost:8080/"
        },
        "id": "zRX0i0cXlNde",
        "outputId": "0716d214-02c2-49ba-b8aa-645a29789c24"
      },
      "source": [
        "from sklearn.model_selection import train_test_split\n",
        "y = data1['Effectiveness'].values\n",
        "X = data1.drop('Effectiveness', axis=1).values\n",
        "\n",
        "X_train, X_test, y_train, y_test = train_test_split(X, y, test_size=0.2, random_state=42)\n",
        "X_train.shape"
      ],
      "execution_count": null,
      "outputs": [
        {
          "output_type": "execute_result",
          "data": {
            "text/plain": [
              "(287295, 8)"
            ]
          },
          "metadata": {
            "tags": []
          },
          "execution_count": 48
        }
      ]
    },
    {
      "cell_type": "code",
      "metadata": {
        "id": "agdq9lnNwEyP"
      },
      "source": [
        "#To display result\n",
        "def dispAcc(y_pred):\n",
        "  print(\"Classification Report\")\n",
        "  print(classification_report(y_test,y_pred))\n",
        "  print(\"Accuracy is \",accuracy_score(y_test,y_pred))\n",
        "  print(\"Precision is \", precision_score(y_test,y_pred,pos_label='positive',\n",
        "                                           average='micro'))\n",
        "  print(\"Recall is \",recall_score(y_test,y_pred,y_pred,pos_label='positive',\n",
        "                                           average='micro'))\n",
        "  print(\"f1 score is \",f1_score(y_test,y_pred,y_pred,pos_label='positive',\n",
        "                                           average='micro'))\n",
        "  confusion_matrix(y_test,y_pred)\n"
      ],
      "execution_count": null,
      "outputs": []
    },
    {
      "cell_type": "code",
      "metadata": {
        "id": "JyZeOg9ZsNQp"
      },
      "source": [
        "#Logistic Regression is Irrelevant for this dataset"
      ],
      "execution_count": null,
      "outputs": []
    },
    {
      "cell_type": "code",
      "metadata": {
        "id": "jwQR3gQzsWze"
      },
      "source": [
        "from sklearn.linear_model import LogisticRegression\n",
        "from sklearn.metrics import confusion_matrix,accuracy_score,precision_score,recall_score,f1_score,classification_report,roc_curve"
      ],
      "execution_count": null,
      "outputs": []
    },
    {
      "cell_type": "markdown",
      "metadata": {
        "id": "AVWSm6NJcvR6"
      },
      "source": [
        "## Random Forest Classifier"
      ]
    },
    {
      "cell_type": "code",
      "metadata": {
        "id": "lwshOqH8cz2m"
      },
      "source": [
        "from sklearn.ensemble import RandomForestClassifier\n",
        "rf=RandomForestClassifier()"
      ],
      "execution_count": null,
      "outputs": []
    },
    {
      "cell_type": "code",
      "metadata": {
        "id": "W60MupWAc0zN"
      },
      "source": [
        "rf.fit(X_train,y_train)\n",
        "y_pred=rf.predict(X_test)"
      ],
      "execution_count": null,
      "outputs": []
    },
    {
      "cell_type": "code",
      "metadata": {
        "colab": {
          "base_uri": "https://localhost:8080/"
        },
        "id": "DDE4IvS3c6xn",
        "outputId": "1c40a87b-c6bf-4f48-f5a2-cd734c0551af"
      },
      "source": [
        "print('Random Forest Classifier:')\n",
        "dispAcc(y_pred)"
      ],
      "execution_count": null,
      "outputs": [
        {
          "output_type": "stream",
          "text": [
            "Random Forest Classifier:\n",
            "Classification Report\n",
            "              precision    recall  f1-score   support\n",
            "\n",
            "           1       0.69      0.83      0.75     11724\n",
            "           2       0.53      0.42      0.47      6205\n",
            "           3       0.59      0.58      0.58     11953\n",
            "           4       0.65      0.61      0.63     16124\n",
            "           5       0.82      0.83      0.83     25817\n",
            "           6       1.00      1.00      1.00         1\n",
            "\n",
            "    accuracy                           0.70     71824\n",
            "   macro avg       0.71      0.71      0.71     71824\n",
            "weighted avg       0.70      0.70      0.70     71824\n",
            "\n",
            "Accuracy is  0.7026202940521274\n",
            "Precision is  0.7026202940521274\n",
            "Recall is  0.7471563117297143\n",
            "f1 score is  0.7436860806156359\n"
          ],
          "name": "stdout"
        },
        {
          "output_type": "stream",
          "text": [
            "/usr/local/lib/python3.7/dist-packages/sklearn/metrics/_classification.py:1321: UserWarning: Note that pos_label (set to 'positive') is ignored when average != 'binary' (got 'micro'). You may use labels=[pos_label] to specify a single positive class.\n",
            "  % (pos_label, average), UserWarning)\n"
          ],
          "name": "stderr"
        }
      ]
    },
    {
      "cell_type": "markdown",
      "metadata": {
        "id": "kXY6eb89c_YO"
      },
      "source": [
        "# Got an accuracy of 70.36%,  and  f1 score of 74.27%,  which is much better than the other models we created."
      ]
    },
    {
      "cell_type": "code",
      "metadata": {
        "colab": {
          "base_uri": "https://localhost:8080/"
        },
        "id": "5Dqmg1nuOe9m",
        "outputId": "a0b56866-4ed2-4362-cea2-d8b9b294d565"
      },
      "source": [
        "rft=RandomForestClassifier(n_estimators=600, max_depth=25, criterion='entropy' )\n",
        "rft.fit(X_train,y_train)\n",
        "y_pred=rft.predict(X_test)\n",
        "print('Random Forest Classifier:')\n",
        "dispAcc(y_pred)"
      ],
      "execution_count": null,
      "outputs": [
        {
          "output_type": "stream",
          "text": [
            "Random Forest Classifier:\n",
            "Classification Report\n",
            "              precision    recall  f1-score   support\n",
            "\n",
            "           1       0.68      0.86      0.76     11724\n",
            "           2       0.56      0.41      0.47      6205\n",
            "           3       0.59      0.60      0.60     11953\n",
            "           4       0.67      0.61      0.64     16124\n",
            "           5       0.83      0.83      0.83     25817\n",
            "           6       1.00      1.00      1.00         1\n",
            "\n",
            "    accuracy                           0.71     71824\n",
            "   macro avg       0.72      0.72      0.72     71824\n",
            "weighted avg       0.71      0.71      0.71     71824\n",
            "\n",
            "Accuracy is  0.7103335932278904\n",
            "Precision is  0.7103335932278904\n",
            "Recall is  0.756120567641194\n",
            "f1 score is  0.751224579657273\n"
          ],
          "name": "stdout"
        },
        {
          "output_type": "stream",
          "text": [
            "/usr/local/lib/python3.7/dist-packages/sklearn/metrics/_classification.py:1321: UserWarning: Note that pos_label (set to 'positive') is ignored when average != 'binary' (got 'micro'). You may use labels=[pos_label] to specify a single positive class.\n",
            "  % (pos_label, average), UserWarning)\n"
          ],
          "name": "stderr"
        }
      ]
    },
    {
      "cell_type": "code",
      "metadata": {
        "id": "Stg5OdmGon2d"
      },
      "source": [
        ""
      ],
      "execution_count": null,
      "outputs": []
    },
    {
      "cell_type": "markdown",
      "metadata": {
        "id": "SrWmyS9aGA5y"
      },
      "source": [
        "# Hyperparameter tuning of RFA had resulted in an improved accuracy of 71.03%,  and  f1 score of 75.12%,  which is much better than the other models we created."
      ]
    }
  ]
}